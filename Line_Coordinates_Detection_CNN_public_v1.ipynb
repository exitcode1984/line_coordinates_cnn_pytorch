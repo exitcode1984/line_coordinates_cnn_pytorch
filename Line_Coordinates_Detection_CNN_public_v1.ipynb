{
  "nbformat": 4,
  "nbformat_minor": 0,
  "metadata": {
    "colab": {
      "provenance": [],
      "gpuType": "T4",
      "authorship_tag": "ABX9TyNJzQwx3cTlbD6IU0ozEnAH",
      "include_colab_link": true
    },
    "kernelspec": {
      "name": "python3",
      "display_name": "Python 3"
    },
    "language_info": {
      "name": "python"
    },
    "accelerator": "GPU",
    "widgets": {
      "application/vnd.jupyter.widget-state+json": {
        "aa1cd42c69db4576b52301677bf4eec5": {
          "model_module": "@jupyter-widgets/controls",
          "model_name": "HBoxModel",
          "model_module_version": "1.5.0",
          "state": {
            "_dom_classes": [],
            "_model_module": "@jupyter-widgets/controls",
            "_model_module_version": "1.5.0",
            "_model_name": "HBoxModel",
            "_view_count": null,
            "_view_module": "@jupyter-widgets/controls",
            "_view_module_version": "1.5.0",
            "_view_name": "HBoxView",
            "box_style": "",
            "children": [
              "IPY_MODEL_5b7da5dcb14242a7ad138da006e16db7",
              "IPY_MODEL_2caf301dfbc142e3b00801efcedc900e",
              "IPY_MODEL_23482f305e6943bab9911f3b32db048a"
            ],
            "layout": "IPY_MODEL_3b3452b99ad3405aa69c48915a686f58"
          }
        },
        "5b7da5dcb14242a7ad138da006e16db7": {
          "model_module": "@jupyter-widgets/controls",
          "model_name": "HTMLModel",
          "model_module_version": "1.5.0",
          "state": {
            "_dom_classes": [],
            "_model_module": "@jupyter-widgets/controls",
            "_model_module_version": "1.5.0",
            "_model_name": "HTMLModel",
            "_view_count": null,
            "_view_module": "@jupyter-widgets/controls",
            "_view_module_version": "1.5.0",
            "_view_name": "HTMLView",
            "description": "",
            "description_tooltip": null,
            "layout": "IPY_MODEL_db6a8deb43404d198a0f4394d2fda0c3",
            "placeholder": "​",
            "style": "IPY_MODEL_05f13ddf348e4114871c6c88a2567941",
            "value": "100%"
          }
        },
        "2caf301dfbc142e3b00801efcedc900e": {
          "model_module": "@jupyter-widgets/controls",
          "model_name": "FloatProgressModel",
          "model_module_version": "1.5.0",
          "state": {
            "_dom_classes": [],
            "_model_module": "@jupyter-widgets/controls",
            "_model_module_version": "1.5.0",
            "_model_name": "FloatProgressModel",
            "_view_count": null,
            "_view_module": "@jupyter-widgets/controls",
            "_view_module_version": "1.5.0",
            "_view_name": "ProgressView",
            "bar_style": "success",
            "description": "",
            "description_tooltip": null,
            "layout": "IPY_MODEL_5fc8fc35ac8a44ce9ef6c29bbe4017bd",
            "max": 130,
            "min": 0,
            "orientation": "horizontal",
            "style": "IPY_MODEL_9f1a762828d54fa99c135b3e14aa4eab",
            "value": 130
          }
        },
        "23482f305e6943bab9911f3b32db048a": {
          "model_module": "@jupyter-widgets/controls",
          "model_name": "HTMLModel",
          "model_module_version": "1.5.0",
          "state": {
            "_dom_classes": [],
            "_model_module": "@jupyter-widgets/controls",
            "_model_module_version": "1.5.0",
            "_model_name": "HTMLModel",
            "_view_count": null,
            "_view_module": "@jupyter-widgets/controls",
            "_view_module_version": "1.5.0",
            "_view_name": "HTMLView",
            "description": "",
            "description_tooltip": null,
            "layout": "IPY_MODEL_43e8277e74424783a5bfdf2a5c248c6e",
            "placeholder": "​",
            "style": "IPY_MODEL_7265970fd1834dbbb1ab8033eac27c9f",
            "value": " 130/130 [01:16&lt;00:00,  1.78it/s]"
          }
        },
        "3b3452b99ad3405aa69c48915a686f58": {
          "model_module": "@jupyter-widgets/base",
          "model_name": "LayoutModel",
          "model_module_version": "1.2.0",
          "state": {
            "_model_module": "@jupyter-widgets/base",
            "_model_module_version": "1.2.0",
            "_model_name": "LayoutModel",
            "_view_count": null,
            "_view_module": "@jupyter-widgets/base",
            "_view_module_version": "1.2.0",
            "_view_name": "LayoutView",
            "align_content": null,
            "align_items": null,
            "align_self": null,
            "border": null,
            "bottom": null,
            "display": null,
            "flex": null,
            "flex_flow": null,
            "grid_area": null,
            "grid_auto_columns": null,
            "grid_auto_flow": null,
            "grid_auto_rows": null,
            "grid_column": null,
            "grid_gap": null,
            "grid_row": null,
            "grid_template_areas": null,
            "grid_template_columns": null,
            "grid_template_rows": null,
            "height": null,
            "justify_content": null,
            "justify_items": null,
            "left": null,
            "margin": null,
            "max_height": null,
            "max_width": null,
            "min_height": null,
            "min_width": null,
            "object_fit": null,
            "object_position": null,
            "order": null,
            "overflow": null,
            "overflow_x": null,
            "overflow_y": null,
            "padding": null,
            "right": null,
            "top": null,
            "visibility": null,
            "width": null
          }
        },
        "db6a8deb43404d198a0f4394d2fda0c3": {
          "model_module": "@jupyter-widgets/base",
          "model_name": "LayoutModel",
          "model_module_version": "1.2.0",
          "state": {
            "_model_module": "@jupyter-widgets/base",
            "_model_module_version": "1.2.0",
            "_model_name": "LayoutModel",
            "_view_count": null,
            "_view_module": "@jupyter-widgets/base",
            "_view_module_version": "1.2.0",
            "_view_name": "LayoutView",
            "align_content": null,
            "align_items": null,
            "align_self": null,
            "border": null,
            "bottom": null,
            "display": null,
            "flex": null,
            "flex_flow": null,
            "grid_area": null,
            "grid_auto_columns": null,
            "grid_auto_flow": null,
            "grid_auto_rows": null,
            "grid_column": null,
            "grid_gap": null,
            "grid_row": null,
            "grid_template_areas": null,
            "grid_template_columns": null,
            "grid_template_rows": null,
            "height": null,
            "justify_content": null,
            "justify_items": null,
            "left": null,
            "margin": null,
            "max_height": null,
            "max_width": null,
            "min_height": null,
            "min_width": null,
            "object_fit": null,
            "object_position": null,
            "order": null,
            "overflow": null,
            "overflow_x": null,
            "overflow_y": null,
            "padding": null,
            "right": null,
            "top": null,
            "visibility": null,
            "width": null
          }
        },
        "05f13ddf348e4114871c6c88a2567941": {
          "model_module": "@jupyter-widgets/controls",
          "model_name": "DescriptionStyleModel",
          "model_module_version": "1.5.0",
          "state": {
            "_model_module": "@jupyter-widgets/controls",
            "_model_module_version": "1.5.0",
            "_model_name": "DescriptionStyleModel",
            "_view_count": null,
            "_view_module": "@jupyter-widgets/base",
            "_view_module_version": "1.2.0",
            "_view_name": "StyleView",
            "description_width": ""
          }
        },
        "5fc8fc35ac8a44ce9ef6c29bbe4017bd": {
          "model_module": "@jupyter-widgets/base",
          "model_name": "LayoutModel",
          "model_module_version": "1.2.0",
          "state": {
            "_model_module": "@jupyter-widgets/base",
            "_model_module_version": "1.2.0",
            "_model_name": "LayoutModel",
            "_view_count": null,
            "_view_module": "@jupyter-widgets/base",
            "_view_module_version": "1.2.0",
            "_view_name": "LayoutView",
            "align_content": null,
            "align_items": null,
            "align_self": null,
            "border": null,
            "bottom": null,
            "display": null,
            "flex": null,
            "flex_flow": null,
            "grid_area": null,
            "grid_auto_columns": null,
            "grid_auto_flow": null,
            "grid_auto_rows": null,
            "grid_column": null,
            "grid_gap": null,
            "grid_row": null,
            "grid_template_areas": null,
            "grid_template_columns": null,
            "grid_template_rows": null,
            "height": null,
            "justify_content": null,
            "justify_items": null,
            "left": null,
            "margin": null,
            "max_height": null,
            "max_width": null,
            "min_height": null,
            "min_width": null,
            "object_fit": null,
            "object_position": null,
            "order": null,
            "overflow": null,
            "overflow_x": null,
            "overflow_y": null,
            "padding": null,
            "right": null,
            "top": null,
            "visibility": null,
            "width": null
          }
        },
        "9f1a762828d54fa99c135b3e14aa4eab": {
          "model_module": "@jupyter-widgets/controls",
          "model_name": "ProgressStyleModel",
          "model_module_version": "1.5.0",
          "state": {
            "_model_module": "@jupyter-widgets/controls",
            "_model_module_version": "1.5.0",
            "_model_name": "ProgressStyleModel",
            "_view_count": null,
            "_view_module": "@jupyter-widgets/base",
            "_view_module_version": "1.2.0",
            "_view_name": "StyleView",
            "bar_color": null,
            "description_width": ""
          }
        },
        "43e8277e74424783a5bfdf2a5c248c6e": {
          "model_module": "@jupyter-widgets/base",
          "model_name": "LayoutModel",
          "model_module_version": "1.2.0",
          "state": {
            "_model_module": "@jupyter-widgets/base",
            "_model_module_version": "1.2.0",
            "_model_name": "LayoutModel",
            "_view_count": null,
            "_view_module": "@jupyter-widgets/base",
            "_view_module_version": "1.2.0",
            "_view_name": "LayoutView",
            "align_content": null,
            "align_items": null,
            "align_self": null,
            "border": null,
            "bottom": null,
            "display": null,
            "flex": null,
            "flex_flow": null,
            "grid_area": null,
            "grid_auto_columns": null,
            "grid_auto_flow": null,
            "grid_auto_rows": null,
            "grid_column": null,
            "grid_gap": null,
            "grid_row": null,
            "grid_template_areas": null,
            "grid_template_columns": null,
            "grid_template_rows": null,
            "height": null,
            "justify_content": null,
            "justify_items": null,
            "left": null,
            "margin": null,
            "max_height": null,
            "max_width": null,
            "min_height": null,
            "min_width": null,
            "object_fit": null,
            "object_position": null,
            "order": null,
            "overflow": null,
            "overflow_x": null,
            "overflow_y": null,
            "padding": null,
            "right": null,
            "top": null,
            "visibility": null,
            "width": null
          }
        },
        "7265970fd1834dbbb1ab8033eac27c9f": {
          "model_module": "@jupyter-widgets/controls",
          "model_name": "DescriptionStyleModel",
          "model_module_version": "1.5.0",
          "state": {
            "_model_module": "@jupyter-widgets/controls",
            "_model_module_version": "1.5.0",
            "_model_name": "DescriptionStyleModel",
            "_view_count": null,
            "_view_module": "@jupyter-widgets/base",
            "_view_module_version": "1.2.0",
            "_view_name": "StyleView",
            "description_width": ""
          }
        }
      }
    }
  },
  "cells": [
    {
      "cell_type": "markdown",
      "metadata": {
        "id": "view-in-github",
        "colab_type": "text"
      },
      "source": [
        "<a href=\"https://colab.research.google.com/github/exitcode1984/line_coordinates_cnn_pytorch/blob/main/Line_Coordinates_Detection_CNN_public_v1.ipynb\" target=\"_parent\"><img src=\"https://colab.research.google.com/assets/colab-badge.svg\" alt=\"Open In Colab\"/></a>"
      ]
    },
    {
      "cell_type": "markdown",
      "source": [
        "In this version I used Convolutional Neural Network implemented with the help of Pytorch.\n",
        "\n",
        "I tried to add some necesary comments for better understanding.\n",
        "\n",
        "___\n",
        "Program stages:\n",
        "1. Lines generator algorithm.\n",
        "  - generate N coordinates\n",
        "  - create a function to draw the images\n",
        "  - create a function to save the images into a dataset folder\n",
        "2. Divide the data into train and test set\n",
        "3. Custom DataLoader\n",
        "4. Create a neural network\n",
        "5. Train the NN\n",
        "6. Test the NN\n",
        "7. Visualize Train and Test losses\n",
        "8. Visualize predictions"
      ],
      "metadata": {
        "id": "fy8inbD0RuVa"
      }
    },
    {
      "cell_type": "code",
      "execution_count": 1,
      "metadata": {
        "id": "cUsYePgZNagH",
        "colab": {
          "base_uri": "https://localhost:8080/"
        },
        "outputId": "66608ee4-3576-454e-aa7f-0efabc9d79c1"
      },
      "outputs": [
        {
          "output_type": "stream",
          "name": "stdout",
          "text": [
            "Looking in indexes: https://pypi.org/simple, https://us-python.pkg.dev/colab-wheels/public/simple/\n",
            "Collecting torchinfo\n",
            "  Downloading torchinfo-1.8.0-py3-none-any.whl (23 kB)\n",
            "Installing collected packages: torchinfo\n",
            "Successfully installed torchinfo-1.8.0\n"
          ]
        }
      ],
      "source": [
        "# Import PyTorch\n",
        "import torch\n",
        "from torch import nn\n",
        "from torch.utils.data import DataLoader\n",
        "import torch.nn.functional as F\n",
        "import torch.nn as nn\n",
        "import torch.optim as optim\n",
        "\n",
        "# Model summary info\n",
        "try:\n",
        "  import torchinfo\n",
        "except:\n",
        "  !pip install torchinfo\n",
        "  import torchinfo\n",
        "from torchinfo import summary\n",
        "\n",
        "# Import torchvision\n",
        "import torchvision\n",
        "from torchvision import datasets\n",
        "from torchvision import transforms\n",
        "from torchvision.io import read_image\n",
        "from torchvision.transforms import ToTensor\n",
        "from torchvision import models\n",
        "\n",
        "# Import matplotlib for visualization\n",
        "import matplotlib.pyplot as plt\n",
        "\n",
        "import numpy as np\n",
        "import pandas as pd\n",
        "import random\n",
        "from sklearn.model_selection import train_test_split\n",
        "\n",
        "from PIL import Image, ImageDraw\n",
        "import os\n",
        "import csv\n",
        "\n",
        "import time\n"
      ]
    },
    {
      "cell_type": "code",
      "source": [
        "# Set Hyperparameters\n",
        "# number of images\n",
        "SET_SIZE = 10000\n",
        "# the size of 1 image in px\n",
        "IMG_SIZE = 64\n",
        "# setup the batch size hyperparameter\n",
        "BATCH_SIZE = 32\n",
        "# images directory\n",
        "IMAGE_DIR = 'linedata'"
      ],
      "metadata": {
        "id": "rS88tZA3Q0Yc"
      },
      "execution_count": 2,
      "outputs": []
    },
    {
      "cell_type": "code",
      "source": [
        "# set random seed to ensure that results are reproducible.\n",
        "random.seed(77)\n",
        "\n",
        "# We need to be sure that the labels will be coorectly presented to the model\n",
        "# that's why we generate x1 from 0 to the middle of the image\n",
        "# and x2 from the middle of the image to the right border\n",
        "# Only then labels (x1, y1, x2, y2) will be on the same places and will not confuse the model\n",
        "x1_dots = tuple(random.randint(0,IMG_SIZE/2-1) for _ in range(SET_SIZE))\n",
        "x2_dots = tuple(random.randint(IMG_SIZE/2, IMG_SIZE-1) for _ in range(SET_SIZE))\n",
        "y1_dots = tuple(random.randint(0, IMG_SIZE-1) for _ in range(SET_SIZE))\n",
        "y2_dots = tuple(random.randint(0, IMG_SIZE-1) for _ in range(SET_SIZE))\n",
        "# first 5 samples of coordinates (x1, y1, x2, y2)\n",
        "# dots[:10]\n",
        "# print(f\"x1_dots = {x1_dots}\")\n",
        "# print(f\"y1_dots = {y1_dots}\")\n",
        "# print(f\"x2_dots = {x2_dots}\")\n",
        "# print(f\"y2_dots = {y2_dots}\")\n",
        "dots = tuple(zip(x1_dots, y1_dots, x2_dots, y2_dots))\n",
        "dots[:10]"
      ],
      "metadata": {
        "colab": {
          "base_uri": "https://localhost:8080/"
        },
        "id": "H44X4WmFh-uP",
        "outputId": "23f06651-0df5-4c4d-faa6-5b773e0e455b"
      },
      "execution_count": 4,
      "outputs": [
        {
          "output_type": "execute_result",
          "data": {
            "text/plain": [
              "((16, 0, 32, 49),\n",
              " (20, 22, 39, 28),\n",
              " (12, 16, 33, 30),\n",
              " (15, 5, 57, 6),\n",
              " (12, 49, 39, 49),\n",
              " (7, 54, 57, 35),\n",
              " (18, 30, 49, 55),\n",
              " (30, 24, 35, 25),\n",
              " (15, 52, 36, 3),\n",
              " (9, 9, 43, 14))"
            ]
          },
          "metadata": {},
          "execution_count": 4
        }
      ]
    },
    {
      "cell_type": "code",
      "source": [
        "# delete a folder and create a new one\n",
        "!rm -rf models\n",
        "!rm -rf linedata\n",
        "\n",
        "os.mkdir(IMAGE_DIR)"
      ],
      "metadata": {
        "id": "502DP5Rylir_"
      },
      "execution_count": 5,
      "outputs": []
    },
    {
      "cell_type": "markdown",
      "source": [
        "### DATA ORIGINAL"
      ],
      "metadata": {
        "id": "ymRQhs1zrFLg"
      }
    },
    {
      "cell_type": "code",
      "source": [
        "# Generating dataset\n",
        "data_list = []\n",
        "for i in range(0, SET_SIZE):\n",
        "\n",
        "  img = Image.new('1', (IMG_SIZE, IMG_SIZE), 'white')\n",
        "  draw = ImageDraw.Draw(img)\n",
        "  draw.line(dots[i], fill='black', width=1)\n",
        "  img.save('linedata/' + str(i) +  '.png')\n",
        "  img = read_image(os.path.join(IMAGE_DIR, str(i) + '.png'))\n",
        "\n",
        "  # Extracting essential data to store it in one place\n",
        "  # filename, width, height, x1, y1, x2, y2\n",
        "  x1, y1, x2, y2 = dots[i][0], dots[i][1], dots[i][2], dots[i][3]\n",
        "  height, width = img.shape[-2:]\n",
        "  # append current data to a temporary list of tuples\n",
        "  data_list.append((str(i) + '.png', width, height, x1, y1, x2, y2))\n",
        "\n",
        "\n",
        "column_name = ['filename', 'width', 'height', 'x1', 'y1', 'x2', 'y2']\n",
        "img_df = pd.DataFrame(data_list, columns = column_name)\n",
        "\n",
        "# Save the data into .csv file\n",
        "img_df.to_csv(('dataset.csv'), index=None)\n",
        "\n",
        "# Let's see what we've got\n",
        "img_df.head()"
      ],
      "metadata": {
        "id": "CodqKDvKpVHs",
        "colab": {
          "base_uri": "https://localhost:8080/",
          "height": 206
        },
        "outputId": "aee65de9-ac04-4744-a104-7cbb15c4d006"
      },
      "execution_count": 6,
      "outputs": [
        {
          "output_type": "execute_result",
          "data": {
            "text/plain": [
              "  filename  width  height  x1  y1  x2  y2\n",
              "0    0.png     64      64  16   0  32  49\n",
              "1    1.png     64      64  20  22  39  28\n",
              "2    2.png     64      64  12  16  33  30\n",
              "3    3.png     64      64  15   5  57   6\n",
              "4    4.png     64      64  12  49  39  49"
            ],
            "text/html": [
              "\n",
              "  <div id=\"df-b74890b7-1de1-45c3-bce1-1c8f6d5a56dd\">\n",
              "    <div class=\"colab-df-container\">\n",
              "      <div>\n",
              "<style scoped>\n",
              "    .dataframe tbody tr th:only-of-type {\n",
              "        vertical-align: middle;\n",
              "    }\n",
              "\n",
              "    .dataframe tbody tr th {\n",
              "        vertical-align: top;\n",
              "    }\n",
              "\n",
              "    .dataframe thead th {\n",
              "        text-align: right;\n",
              "    }\n",
              "</style>\n",
              "<table border=\"1\" class=\"dataframe\">\n",
              "  <thead>\n",
              "    <tr style=\"text-align: right;\">\n",
              "      <th></th>\n",
              "      <th>filename</th>\n",
              "      <th>width</th>\n",
              "      <th>height</th>\n",
              "      <th>x1</th>\n",
              "      <th>y1</th>\n",
              "      <th>x2</th>\n",
              "      <th>y2</th>\n",
              "    </tr>\n",
              "  </thead>\n",
              "  <tbody>\n",
              "    <tr>\n",
              "      <th>0</th>\n",
              "      <td>0.png</td>\n",
              "      <td>64</td>\n",
              "      <td>64</td>\n",
              "      <td>16</td>\n",
              "      <td>0</td>\n",
              "      <td>32</td>\n",
              "      <td>49</td>\n",
              "    </tr>\n",
              "    <tr>\n",
              "      <th>1</th>\n",
              "      <td>1.png</td>\n",
              "      <td>64</td>\n",
              "      <td>64</td>\n",
              "      <td>20</td>\n",
              "      <td>22</td>\n",
              "      <td>39</td>\n",
              "      <td>28</td>\n",
              "    </tr>\n",
              "    <tr>\n",
              "      <th>2</th>\n",
              "      <td>2.png</td>\n",
              "      <td>64</td>\n",
              "      <td>64</td>\n",
              "      <td>12</td>\n",
              "      <td>16</td>\n",
              "      <td>33</td>\n",
              "      <td>30</td>\n",
              "    </tr>\n",
              "    <tr>\n",
              "      <th>3</th>\n",
              "      <td>3.png</td>\n",
              "      <td>64</td>\n",
              "      <td>64</td>\n",
              "      <td>15</td>\n",
              "      <td>5</td>\n",
              "      <td>57</td>\n",
              "      <td>6</td>\n",
              "    </tr>\n",
              "    <tr>\n",
              "      <th>4</th>\n",
              "      <td>4.png</td>\n",
              "      <td>64</td>\n",
              "      <td>64</td>\n",
              "      <td>12</td>\n",
              "      <td>49</td>\n",
              "      <td>39</td>\n",
              "      <td>49</td>\n",
              "    </tr>\n",
              "  </tbody>\n",
              "</table>\n",
              "</div>\n",
              "      <button class=\"colab-df-convert\" onclick=\"convertToInteractive('df-b74890b7-1de1-45c3-bce1-1c8f6d5a56dd')\"\n",
              "              title=\"Convert this dataframe to an interactive table.\"\n",
              "              style=\"display:none;\">\n",
              "        \n",
              "  <svg xmlns=\"http://www.w3.org/2000/svg\" height=\"24px\"viewBox=\"0 0 24 24\"\n",
              "       width=\"24px\">\n",
              "    <path d=\"M0 0h24v24H0V0z\" fill=\"none\"/>\n",
              "    <path d=\"M18.56 5.44l.94 2.06.94-2.06 2.06-.94-2.06-.94-.94-2.06-.94 2.06-2.06.94zm-11 1L8.5 8.5l.94-2.06 2.06-.94-2.06-.94L8.5 2.5l-.94 2.06-2.06.94zm10 10l.94 2.06.94-2.06 2.06-.94-2.06-.94-.94-2.06-.94 2.06-2.06.94z\"/><path d=\"M17.41 7.96l-1.37-1.37c-.4-.4-.92-.59-1.43-.59-.52 0-1.04.2-1.43.59L10.3 9.45l-7.72 7.72c-.78.78-.78 2.05 0 2.83L4 21.41c.39.39.9.59 1.41.59.51 0 1.02-.2 1.41-.59l7.78-7.78 2.81-2.81c.8-.78.8-2.07 0-2.86zM5.41 20L4 18.59l7.72-7.72 1.47 1.35L5.41 20z\"/>\n",
              "  </svg>\n",
              "      </button>\n",
              "      \n",
              "  <style>\n",
              "    .colab-df-container {\n",
              "      display:flex;\n",
              "      flex-wrap:wrap;\n",
              "      gap: 12px;\n",
              "    }\n",
              "\n",
              "    .colab-df-convert {\n",
              "      background-color: #E8F0FE;\n",
              "      border: none;\n",
              "      border-radius: 50%;\n",
              "      cursor: pointer;\n",
              "      display: none;\n",
              "      fill: #1967D2;\n",
              "      height: 32px;\n",
              "      padding: 0 0 0 0;\n",
              "      width: 32px;\n",
              "    }\n",
              "\n",
              "    .colab-df-convert:hover {\n",
              "      background-color: #E2EBFA;\n",
              "      box-shadow: 0px 1px 2px rgba(60, 64, 67, 0.3), 0px 1px 3px 1px rgba(60, 64, 67, 0.15);\n",
              "      fill: #174EA6;\n",
              "    }\n",
              "\n",
              "    [theme=dark] .colab-df-convert {\n",
              "      background-color: #3B4455;\n",
              "      fill: #D2E3FC;\n",
              "    }\n",
              "\n",
              "    [theme=dark] .colab-df-convert:hover {\n",
              "      background-color: #434B5C;\n",
              "      box-shadow: 0px 1px 3px 1px rgba(0, 0, 0, 0.15);\n",
              "      filter: drop-shadow(0px 1px 2px rgba(0, 0, 0, 0.3));\n",
              "      fill: #FFFFFF;\n",
              "    }\n",
              "  </style>\n",
              "\n",
              "      <script>\n",
              "        const buttonEl =\n",
              "          document.querySelector('#df-b74890b7-1de1-45c3-bce1-1c8f6d5a56dd button.colab-df-convert');\n",
              "        buttonEl.style.display =\n",
              "          google.colab.kernel.accessAllowed ? 'block' : 'none';\n",
              "\n",
              "        async function convertToInteractive(key) {\n",
              "          const element = document.querySelector('#df-b74890b7-1de1-45c3-bce1-1c8f6d5a56dd');\n",
              "          const dataTable =\n",
              "            await google.colab.kernel.invokeFunction('convertToInteractive',\n",
              "                                                     [key], {});\n",
              "          if (!dataTable) return;\n",
              "\n",
              "          const docLinkHtml = 'Like what you see? Visit the ' +\n",
              "            '<a target=\"_blank\" href=https://colab.research.google.com/notebooks/data_table.ipynb>data table notebook</a>'\n",
              "            + ' to learn more about interactive tables.';\n",
              "          element.innerHTML = '';\n",
              "          dataTable['output_type'] = 'display_data';\n",
              "          await google.colab.output.renderOutput(dataTable, element);\n",
              "          const docLink = document.createElement('div');\n",
              "          docLink.innerHTML = docLinkHtml;\n",
              "          element.appendChild(docLink);\n",
              "        }\n",
              "      </script>\n",
              "    </div>\n",
              "  </div>\n",
              "  "
            ]
          },
          "metadata": {},
          "execution_count": 6
        }
      ]
    },
    {
      "cell_type": "code",
      "source": [
        "# Visualize 9 random lines\n",
        "# torch.manual_seed(79)\n",
        "fig = plt.figure(figsize=(8, 8))\n",
        "plt.subplots_adjust(top = 0.9, bottom=0.01, hspace=0.05, wspace=0.3)\n",
        "rows, cols = 3, 3\n",
        "for i in range(1, rows*cols + 1):\n",
        "  random_idx = torch.randint(0, SET_SIZE, size=[1]).item()\n",
        "  img = Image.open('linedata/' + str(random_idx) + '.png')\n",
        "  label = dots[random_idx]\n",
        "  fig.add_subplot(rows, cols, i)\n",
        "  plt.imshow(img, cmap='gray')\n",
        "  plt.title(f\"Dots: {label}\")"
      ],
      "metadata": {
        "colab": {
          "base_uri": "https://localhost:8080/",
          "height": 737
        },
        "id": "NsFSDTcmVVC3",
        "outputId": "9323dd38-ae62-4b32-889c-e0e636b71706"
      },
      "execution_count": 7,
      "outputs": [
        {
          "output_type": "display_data",
          "data": {
            "text/plain": [
              "<Figure size 800x800 with 9 Axes>"
            ],
            "image/png": "[encoded data removed]"
          },
          "metadata": {}
        }
      ]
    },
    {
      "cell_type": "markdown",
      "source": [
        "Now that we got the data in the CSV, let us load the corresponding images and labels for building data loaders"
      ],
      "metadata": {
        "id": "FzhFDinCXqbH"
      }
    },
    {
      "cell_type": "markdown",
      "source": [
        "### Preparing the Data"
      ],
      "metadata": {
        "id": "iG8oMNBSrIzP"
      }
    },
    {
      "cell_type": "code",
      "source": [
        "# convert generated coordinates to Tensors\n",
        "dots = torch.Tensor(dots)\n",
        "\n",
        "# Let's normalize them by dividing it by 63 (IMG_SIZE - 1)\n",
        "dots = dots/63\n",
        "\n",
        "# Check first 5\n",
        "dots[:5]"
      ],
      "metadata": {
        "id": "WPVuAogL7bpg",
        "colab": {
          "base_uri": "https://localhost:8080/"
        },
        "outputId": "1e7b604a-9e18-4c43-fcdf-44c3b40ab034"
      },
      "execution_count": 8,
      "outputs": [
        {
          "output_type": "execute_result",
          "data": {
            "text/plain": [
              "tensor([[0.2540, 0.0000, 0.5079, 0.7778],\n",
              "        [0.3175, 0.3492, 0.6190, 0.4444],\n",
              "        [0.1905, 0.2540, 0.5238, 0.4762],\n",
              "        [0.2381, 0.0794, 0.9048, 0.0952],\n",
              "        [0.1905, 0.7778, 0.6190, 0.7778]])"
            ]
          },
          "metadata": {},
          "execution_count": 8
        }
      ]
    },
    {
      "cell_type": "code",
      "source": [
        "# Lists that will contain the whole dataset\n",
        "coordinates = []\n",
        "img_list = []\n",
        "\n",
        "convert_tensor = transforms.ToTensor()\n",
        "with open('dataset.csv') as csvfile:\n",
        "  rows = csv.reader(csvfile)\n",
        "  columns = next(iter(rows))\n",
        "  for row in rows:\n",
        "    #Scaling Coordinates to the range of [0,1] by dividing the coordinate with image size\n",
        "    arr = [float(row[3])/63.,\n",
        "          float(row[4])/63.,\n",
        "          float(row[5])/63.,\n",
        "          float(row[6])/63.]\n",
        "    coordinates.append(arr)\n",
        "    img_path = row[0]\n",
        "\n",
        "    # Read the image\n",
        "    img = Image.open(os.path.join(IMAGE_DIR, img_path))\n",
        "    img_tensor = convert_tensor(img)\n",
        "    img_list.append(img_tensor.unsqueeze(dim=0))"
      ],
      "metadata": {
        "id": "E-U47BzprMZ1"
      },
      "execution_count": 9,
      "outputs": []
    },
    {
      "cell_type": "code",
      "source": [
        "coordinates = torch.Tensor(coordinates)\n",
        "coordinates[:5]"
      ],
      "metadata": {
        "colab": {
          "base_uri": "https://localhost:8080/"
        },
        "id": "ywvu5Cv7usaJ",
        "outputId": "13519b34-b3bd-4967-b45c-40465c6a7355"
      },
      "execution_count": 10,
      "outputs": [
        {
          "output_type": "execute_result",
          "data": {
            "text/plain": [
              "tensor([[0.2540, 0.0000, 0.5079, 0.7778],\n",
              "        [0.3175, 0.3492, 0.6190, 0.4444],\n",
              "        [0.1905, 0.2540, 0.5238, 0.4762],\n",
              "        [0.2381, 0.0794, 0.9048, 0.0952],\n",
              "        [0.1905, 0.7778, 0.6190, 0.7778]])"
            ]
          },
          "metadata": {},
          "execution_count": 10
        }
      ]
    },
    {
      "cell_type": "code",
      "source": [
        "b = torch.Tensor(SET_SIZE, 1, IMG_SIZE, IMG_SIZE)\n",
        "b.shape\n",
        "img_tensor = torch.cat(img_list, out=b)"
      ],
      "metadata": {
        "id": "cEQD1n7uCUrD"
      },
      "execution_count": 11,
      "outputs": []
    },
    {
      "cell_type": "code",
      "source": [
        "coordinates.shape, img_tensor.shape"
      ],
      "metadata": {
        "colab": {
          "base_uri": "https://localhost:8080/"
        },
        "id": "-1-cvUteEFoz",
        "outputId": "e3ef2c75-bb82-4b56-9761-160b34afca49"
      },
      "execution_count": 12,
      "outputs": [
        {
          "output_type": "execute_result",
          "data": {
            "text/plain": [
              "(torch.Size([10000, 4]), torch.Size([10000, 1, 64, 64]))"
            ]
          },
          "metadata": {},
          "execution_count": 12
        }
      ]
    },
    {
      "cell_type": "markdown",
      "source": [
        "## Dataset Splitting"
      ],
      "metadata": {
        "id": "5wYY5CzJelA7"
      }
    },
    {
      "cell_type": "code",
      "source": [
        "# Split the data of images, labels and their annotations\n",
        "train_images, test_images, \\\n",
        "train_coordinates, test_coordinates = train_test_split( img_tensor,\n",
        "                coordinates, test_size = 0.2,\n",
        "                random_state = 43)\n",
        "\n",
        "print('Training Images Count: {}, Test Images Count: {}'.format(\n",
        "    len(train_images), len(test_images) ))"
      ],
      "metadata": {
        "id": "yYjq0FPielDq",
        "colab": {
          "base_uri": "https://localhost:8080/"
        },
        "outputId": "bc116c67-68ad-46d4-a0ff-5d37bc2f8553"
      },
      "execution_count": 13,
      "outputs": [
        {
          "output_type": "stream",
          "name": "stdout",
          "text": [
            "Training Images Count: 8000, Test Images Count: 2000\n"
          ]
        }
      ]
    },
    {
      "cell_type": "markdown",
      "source": [
        "## Custom DataLoader"
      ],
      "metadata": {
        "id": "3gGhpo5OelI_"
      }
    },
    {
      "cell_type": "code",
      "source": [
        "# Import tqdm for progress bar\n",
        "from tqdm.auto import tqdm"
      ],
      "metadata": {
        "id": "KVV5Ykv6MmSV"
      },
      "execution_count": 14,
      "outputs": []
    },
    {
      "cell_type": "code",
      "source": [
        "# Implementing device agnosctic code\n",
        "device = torch.device('cuda' if torch.cuda.is_available() else 'cpu')\n",
        "device"
      ],
      "metadata": {
        "colab": {
          "base_uri": "https://localhost:8080/"
        },
        "id": "H2qLSGegcGU1",
        "outputId": "feb5a4c0-89e6-4054-b50a-8980f3d4d5bc"
      },
      "execution_count": 15,
      "outputs": [
        {
          "output_type": "execute_result",
          "data": {
            "text/plain": [
              "device(type='cuda')"
            ]
          },
          "metadata": {},
          "execution_count": 15
        }
      ]
    },
    {
      "cell_type": "code",
      "source": [
        "class Dataset():\n",
        "  def __init__(self, train_images, train_coordinates):\n",
        "    self.images = train_images\n",
        "    self.coordinates = train_coordinates\n",
        "\n",
        "  def __len__(self):\n",
        "    return len(self.coordinates)\n",
        "\n",
        "  # To return x,y values in each iteration over dataloader as batches.\n",
        "\n",
        "  def __getitem__(self, idx):\n",
        "    return (self.images[idx],\n",
        "            self.coordinates[idx])\n",
        "\n",
        "# Inheriting from Dataset class\n",
        "\n",
        "class TestDataset(Dataset):\n",
        "  def __init__(self, test_images, test_coordinates):\n",
        "    self.images = test_images\n",
        "    self.coordinates = test_coordinates"
      ],
      "metadata": {
        "id": "y9iA0u6UcGXw"
      },
      "execution_count": 16,
      "outputs": []
    },
    {
      "cell_type": "code",
      "source": [
        "train_dataset = Dataset(train_images, train_coordinates)\n",
        "test_dataset = TestDataset(test_images, test_coordinates)"
      ],
      "metadata": {
        "id": "VjKpsf0YcGar"
      },
      "execution_count": 17,
      "outputs": []
    },
    {
      "cell_type": "markdown",
      "source": [
        "## Model Architecture"
      ],
      "metadata": {
        "id": "nwMtd3NIcGd0"
      }
    },
    {
      "cell_type": "markdown",
      "source": [
        "So to understand how we have to design the architecture, we have to first understand input and outputs. Here the input is a batch of images, so it will be stylized like  (BS, C, H, W). BS being Batch Size and then Channels, Height, and Weight. The order is important, as in *PyTorch* that's how images are stored. In *TensorFlow*, it is (H, W, C) for each image."
      ],
      "metadata": {
        "id": "64vgZ7majRqU"
      }
    },
    {
      "cell_type": "code",
      "source": [
        "# Turn datasets into iterables (batches)\n",
        "train_dataloader = torch.utils.data.DataLoader(train_dataset,\n",
        "                                         batch_size=BATCH_SIZE,\n",
        "                                         shuffle=False)\n",
        "test_dataloader = torch.utils.data.DataLoader(test_dataset,\n",
        "                                             batch_size=BATCH_SIZE,\n",
        "                                             shuffle=False)\n",
        "\n",
        "print(f\"DataLoaders: {train_dataloader, test_dataloader}\")\n",
        "print(f\"Length of train_dataloader: {len(train_dataloader)} batches of {BATCH_SIZE}\")\n",
        "print(f\"Length of test_dataloader: {len(test_dataloader)} batches of {BATCH_SIZE}\")"
      ],
      "metadata": {
        "id": "ufDUtK-XjsmR",
        "colab": {
          "base_uri": "https://localhost:8080/"
        },
        "outputId": "99fc3aae-73a1-4754-ec9b-8eb724f112c2"
      },
      "execution_count": 18,
      "outputs": [
        {
          "output_type": "stream",
          "name": "stdout",
          "text": [
            "DataLoaders: (<torch.utils.data.dataloader.DataLoader object at 0x7f3ff6bd3d30>, <torch.utils.data.dataloader.DataLoader object at 0x7f3ff85c9450>)\n",
            "Length of train_dataloader: 250 batches of 32\n",
            "Length of test_dataloader: 63 batches of 32\n"
          ]
        }
      ]
    },
    {
      "cell_type": "code",
      "source": [
        "# checking the shapes of batches\n",
        "train_features_batch, train_coordinates_batch = next(iter(train_dataloader))\n",
        "train_features_batch.shape, train_coordinates_batch.shape"
      ],
      "metadata": {
        "colab": {
          "base_uri": "https://localhost:8080/"
        },
        "id": "KQ6tYJ5lXo7R",
        "outputId": "fb9f8f70-5fc8-4028-91e7-eb9d0fb6f360"
      },
      "execution_count": 19,
      "outputs": [
        {
          "output_type": "execute_result",
          "data": {
            "text/plain": [
              "(torch.Size([32, 1, 64, 64]), torch.Size([32, 4]))"
            ]
          },
          "metadata": {},
          "execution_count": 19
        }
      ]
    },
    {
      "cell_type": "markdown",
      "source": [
        "## CNN Model"
      ],
      "metadata": {
        "id": "X0o3yMwxxKar"
      }
    },
    {
      "cell_type": "code",
      "source": [
        "class LineDetectionNet(nn.Module):\n",
        "  def __init__(self):\n",
        "    super(LineDetectionNet, self).__init__()\n",
        "    self.conv = nn.Sequential(\n",
        "      nn.Conv2d(in_channels=1,\n",
        "                out_channels=3,\n",
        "                kernel_size=3,\n",
        "                stride=1,\n",
        "                padding=1),\n",
        "      nn.ReLU(),\n",
        "      nn.MaxPool2d(kernel_size=2,\n",
        "                    stride=2)\n",
        "    )\n",
        "    self.fc = nn.Sequential(\n",
        "      nn.Linear(in_features=3072,\n",
        "                out_features=128),\n",
        "      nn.ReLU(),\n",
        "      nn.Linear(in_features=128,\n",
        "                out_features=4)  # 4 output coordinates: x1, y1, x2, y2\n",
        "    )\n",
        "\n",
        "  def forward(self, x):\n",
        "    x = self.conv(x)\n",
        "    x = x.view(x.size(0), -1)\n",
        "    x = self.fc(x)\n",
        "    return x\n"
      ],
      "metadata": {
        "id": "LJko4MrO3gmf"
      },
      "execution_count": 20,
      "outputs": []
    },
    {
      "cell_type": "code",
      "source": [
        "# Let's see the model summary for better understanding of its architecture\n",
        "m = LineDetectionNet()\n",
        "summary(m, input_size=[1,1,64,64])"
      ],
      "metadata": {
        "colab": {
          "base_uri": "https://localhost:8080/"
        },
        "id": "XWwEEBrQBEGR",
        "outputId": "b5c96393-e502-4e74-9636-16467a0d03a5"
      },
      "execution_count": 21,
      "outputs": [
        {
          "output_type": "execute_result",
          "data": {
            "text/plain": [
              "==========================================================================================\n",
              "Layer (type:depth-idx)                   Output Shape              Param #\n",
              "==========================================================================================\n",
              "LineDetectionNet                         [1, 4]                    --\n",
              "├─Sequential: 1-1                        [1, 3, 32, 32]            --\n",
              "│    └─Conv2d: 2-1                       [1, 3, 64, 64]            30\n",
              "│    └─ReLU: 2-2                         [1, 3, 64, 64]            --\n",
              "│    └─MaxPool2d: 2-3                    [1, 3, 32, 32]            --\n",
              "├─Sequential: 1-2                        [1, 4]                    --\n",
              "│    └─Linear: 2-4                       [1, 128]                  393,344\n",
              "│    └─ReLU: 2-5                         [1, 128]                  --\n",
              "│    └─Linear: 2-6                       [1, 4]                    516\n",
              "==========================================================================================\n",
              "Total params: 393,890\n",
              "Trainable params: 393,890\n",
              "Non-trainable params: 0\n",
              "Total mult-adds (M): 0.52\n",
              "==========================================================================================\n",
              "Input size (MB): 0.02\n",
              "Forward/backward pass size (MB): 0.10\n",
              "Params size (MB): 1.58\n",
              "Estimated Total Size (MB): 1.69\n",
              "=========================================================================================="
            ]
          },
          "metadata": {},
          "execution_count": 21
        }
      ]
    },
    {
      "cell_type": "markdown",
      "source": [
        "### Stepping through nn.Conv2d()"
      ],
      "metadata": {
        "id": "qjQj1gCumhJ9"
      }
    },
    {
      "cell_type": "markdown",
      "source": [
        "### train_step, test_step and timer functions"
      ],
      "metadata": {
        "id": "fMVo6oeFPrpF"
      }
    },
    {
      "cell_type": "code",
      "source": [
        "from timeit import default_timer as timer\n",
        "def print_train_time(start: float,\n",
        "                     end: float,\n",
        "                     device: torch.device = None):\n",
        "  \"\"\"Prints difference between start and end timme.\"\"\"\n",
        "  total_time = end - start\n",
        "  print(f\"Train time on {device}: {total_time:.3f} seconds\")\n",
        "  return total_time"
      ],
      "metadata": {
        "id": "yM5fFjx3H9KL"
      },
      "execution_count": 22,
      "outputs": []
    },
    {
      "cell_type": "code",
      "source": [
        "def train_step(model: torch.nn.Module,\n",
        "               data_loader: torch.utils.data.DataLoader,\n",
        "               loss_fn: torch.nn.Module,\n",
        "               optimizer: torch.optim.Optimizer,\n",
        "               device: torch.device = device):\n",
        "  \"\"\"Performs a training with model trying to learn on data_loader.\"\"\"\n",
        "  train_loss = 0\n",
        "  model.train()\n",
        "  for batch, (X, y) in enumerate(data_loader):\n",
        "    X, y = X.to(device), y.to(device)\n",
        "\n",
        "    # 1. Forward pass\n",
        "    y_pred = model(X)\n",
        "\n",
        "    # 2. Calculate loss(per batch)\n",
        "    loss = loss_fn(y_pred, y)\n",
        "    train_loss += loss # accumulate train loss\n",
        "\n",
        "    # 3. Optimizer zero grad\n",
        "    optimizer.zero_grad()\n",
        "\n",
        "    # 4. Loss backward\n",
        "    loss.backward()\n",
        "\n",
        "    # 5. Optimizer step\n",
        "    optimizer.step()\n",
        "\n",
        "  # Divide total loss by length of train dataloader\n",
        "  train_loss /= len(data_loader)\n",
        "\n",
        "  print(f\"Train loss: {train_loss:.5f}\")\n",
        "  return train_loss"
      ],
      "metadata": {
        "id": "YieAGTuJIeP3"
      },
      "execution_count": 23,
      "outputs": []
    },
    {
      "cell_type": "code",
      "source": [
        "def test_step(model: torch.nn.Module,\n",
        "              data_loader: torch.utils.data.DataLoader,\n",
        "              loss_fn: torch.nn.Module,\n",
        "              device: torch.device = device):\n",
        "  \"\"\"Performs a testing loop step on model going over data_loader\"\"\"\n",
        "  test_loss = 0\n",
        "\n",
        "  # Put the model in eval mode\n",
        "  model.eval()\n",
        "\n",
        "  # Turn on inference mode context manager\n",
        "  with torch.inference_mode():\n",
        "    for X, y in data_loader:\n",
        "      # Send the data to the target device\n",
        "      X, y = X.to(device), y.to(device)\n",
        "\n",
        "      # 1. Forward pass\n",
        "      test_pred = model(X)\n",
        "\n",
        "      # 2. Calculate the loss\n",
        "      test_loss += loss_fn(test_pred, y)\n",
        "\n",
        "  # Adjust metrics and print out\n",
        "    test_loss /= len(data_loader)\n",
        "    print(f\"Test loss: {test_loss:.5f}\\n\")\n",
        "  return test_loss"
      ],
      "metadata": {
        "id": "FUWoV7uCIeS0"
      },
      "execution_count": 24,
      "outputs": []
    },
    {
      "cell_type": "code",
      "source": [
        "torch.manual_seed(42)\n",
        "timer_start = timer()\n",
        "\n",
        "# Set epochs\n",
        "epochs = 130\n",
        "\n",
        "model= LineDetectionNet().to(device)\n",
        "loss_fn= nn.MSELoss()\n",
        "optimizer = torch.optim.SGD(params=model.parameters(),\n",
        "                               lr=0.005, momentum=0.9)\n",
        "\n",
        "\n",
        "\n",
        "# Create empty results dictionary\n",
        "results = {'train_loss': [],\n",
        "            'test_loss': []}\n",
        "\n",
        "# Create an optimization and evaluation loop using train_step() and test_step() functions\n",
        "\n",
        "for epoch in tqdm(range(epochs)):\n",
        "  print(f\"Epoch: {epoch}\\n---------\")\n",
        "\n",
        "  train_result = train_step(model=model,\n",
        "                            data_loader=train_dataloader,\n",
        "                            loss_fn=loss_fn,\n",
        "                            optimizer=optimizer,\n",
        "                            device=device)\n",
        "  test_result = test_step(model=model,\n",
        "                          data_loader=test_dataloader,\n",
        "                          loss_fn=loss_fn,\n",
        "                          device=device)\n",
        "\n",
        "  results['train_loss'].append(train_result.to('cpu').item())\n",
        "  results['test_loss'].append(test_result.to('cpu'))\n",
        "\n",
        "# Calculate training time\n",
        "timer_end = timer()\n",
        "total_train_time_model = print_train_time(start = timer_start,\n",
        "                                          end = timer_end,\n",
        "                                          device = str(next(model.parameters()).device))"
      ],
      "metadata": {
        "id": "Rf5hEADwjRwW",
        "colab": {
          "base_uri": "https://localhost:8080/",
          "height": 1000,
          "referenced_widgets": [
            "aa1cd42c69db4576b52301677bf4eec5",
            "5b7da5dcb14242a7ad138da006e16db7",
            "2caf301dfbc142e3b00801efcedc900e",
            "23482f305e6943bab9911f3b32db048a",
            "3b3452b99ad3405aa69c48915a686f58",
            "db6a8deb43404d198a0f4394d2fda0c3",
            "05f13ddf348e4114871c6c88a2567941",
            "5fc8fc35ac8a44ce9ef6c29bbe4017bd",
            "9f1a762828d54fa99c135b3e14aa4eab",
            "43e8277e74424783a5bfdf2a5c248c6e",
            "7265970fd1834dbbb1ab8033eac27c9f"
          ]
        },
        "outputId": "91f92693-a130-4016-c710-a745a9be93c4"
      },
      "execution_count": 25,
      "outputs": [
        {
          "output_type": "display_data",
          "data": {
            "text/plain": [
              "  0%|          | 0/130 [00:00<?, ?it/s]"
            ],
            "application/vnd.jupyter.widget-view+json": {
              "version_major": 2,
              "version_minor": 0,
              "model_id": "aa1cd42c69db4576b52301677bf4eec5"
            }
          },
          "metadata": {}
        },
        {
          "output_type": "stream",
          "name": "stdout",
          "text": [
            "Epoch: 0\n",
            "---------\n",
            "Train loss: 0.05931\n",
            "Test loss: 0.05338\n",
            "\n",
            "Epoch: 1\n",
            "---------\n",
            "Train loss: 0.05351\n",
            "Test loss: 0.05185\n",
            "\n",
            "Epoch: 2\n",
            "---------\n",
            "Train loss: 0.05116\n",
            "Test loss: 0.04856\n",
            "\n",
            "Epoch: 3\n",
            "---------\n",
            "Train loss: 0.04487\n",
            "Test loss: 0.03994\n",
            "\n",
            "Epoch: 4\n",
            "---------\n",
            "Train loss: 0.03275\n",
            "Test loss: 0.02779\n",
            "\n",
            "Epoch: 5\n",
            "---------\n",
            "Train loss: 0.02307\n",
            "Test loss: 0.02086\n",
            "\n",
            "Epoch: 6\n",
            "---------\n",
            "Train loss: 0.01837\n",
            "Test loss: 0.01693\n",
            "\n",
            "Epoch: 7\n",
            "---------\n",
            "Train loss: 0.01550\n",
            "Test loss: 0.01453\n",
            "\n",
            "Epoch: 8\n",
            "---------\n",
            "Train loss: 0.01343\n",
            "Test loss: 0.01294\n",
            "\n",
            "Epoch: 9\n",
            "---------\n",
            "Train loss: 0.01180\n",
            "Test loss: 0.01154\n",
            "\n",
            "Epoch: 10\n",
            "---------\n",
            "Train loss: 0.01039\n",
            "Test loss: 0.01029\n",
            "\n",
            "Epoch: 11\n",
            "---------\n",
            "Train loss: 0.00928\n",
            "Test loss: 0.00931\n",
            "\n",
            "Epoch: 12\n",
            "---------\n",
            "Train loss: 0.00831\n",
            "Test loss: 0.00837\n",
            "\n",
            "Epoch: 13\n",
            "---------\n",
            "Train loss: 0.00746\n",
            "Test loss: 0.00754\n",
            "\n",
            "Epoch: 14\n",
            "---------\n",
            "Train loss: 0.00667\n",
            "Test loss: 0.00684\n",
            "\n",
            "Epoch: 15\n",
            "---------\n",
            "Train loss: 0.00596\n",
            "Test loss: 0.00621\n",
            "\n",
            "Epoch: 16\n",
            "---------\n",
            "Train loss: 0.00534\n",
            "Test loss: 0.00560\n",
            "\n",
            "Epoch: 17\n",
            "---------\n",
            "Train loss: 0.00479\n",
            "Test loss: 0.00507\n",
            "\n",
            "Epoch: 18\n",
            "---------\n",
            "Train loss: 0.00429\n",
            "Test loss: 0.00463\n",
            "\n",
            "Epoch: 19\n",
            "---------\n",
            "Train loss: 0.00388\n",
            "Test loss: 0.00424\n",
            "\n",
            "Epoch: 20\n",
            "---------\n",
            "Train loss: 0.00354\n",
            "Test loss: 0.00400\n",
            "\n",
            "Epoch: 21\n",
            "---------\n",
            "Train loss: 0.00325\n",
            "Test loss: 0.00367\n",
            "\n",
            "Epoch: 22\n",
            "---------\n",
            "Train loss: 0.00302\n",
            "Test loss: 0.00344\n",
            "\n",
            "Epoch: 23\n",
            "---------\n",
            "Train loss: 0.00280\n",
            "Test loss: 0.00324\n",
            "\n",
            "Epoch: 24\n",
            "---------\n",
            "Train loss: 0.00262\n",
            "Test loss: 0.00308\n",
            "\n",
            "Epoch: 25\n",
            "---------\n",
            "Train loss: 0.00246\n",
            "Test loss: 0.00293\n",
            "\n",
            "Epoch: 26\n",
            "---------\n",
            "Train loss: 0.00232\n",
            "Test loss: 0.00280\n",
            "\n",
            "Epoch: 27\n",
            "---------\n",
            "Train loss: 0.00220\n",
            "Test loss: 0.00268\n",
            "\n",
            "Epoch: 28\n",
            "---------\n",
            "Train loss: 0.00207\n",
            "Test loss: 0.00257\n",
            "\n",
            "Epoch: 29\n",
            "---------\n",
            "Train loss: 0.00197\n",
            "Test loss: 0.00247\n",
            "\n",
            "Epoch: 30\n",
            "---------\n",
            "Train loss: 0.00189\n",
            "Test loss: 0.00240\n",
            "\n",
            "Epoch: 31\n",
            "---------\n",
            "Train loss: 0.00180\n",
            "Test loss: 0.00229\n",
            "\n",
            "Epoch: 32\n",
            "---------\n",
            "Train loss: 0.00173\n",
            "Test loss: 0.00223\n",
            "\n",
            "Epoch: 33\n",
            "---------\n",
            "Train loss: 0.00165\n",
            "Test loss: 0.00215\n",
            "\n",
            "Epoch: 34\n",
            "---------\n",
            "Train loss: 0.00158\n",
            "Test loss: 0.00209\n",
            "\n",
            "Epoch: 35\n",
            "---------\n",
            "Train loss: 0.00152\n",
            "Test loss: 0.00203\n",
            "\n",
            "Epoch: 36\n",
            "---------\n",
            "Train loss: 0.00147\n",
            "Test loss: 0.00198\n",
            "\n",
            "Epoch: 37\n",
            "---------\n",
            "Train loss: 0.00141\n",
            "Test loss: 0.00193\n",
            "\n",
            "Epoch: 38\n",
            "---------\n",
            "Train loss: 0.00137\n",
            "Test loss: 0.00188\n",
            "\n",
            "Epoch: 39\n",
            "---------\n",
            "Train loss: 0.00133\n",
            "Test loss: 0.00188\n",
            "\n",
            "Epoch: 40\n",
            "---------\n",
            "Train loss: 0.00128\n",
            "Test loss: 0.00180\n",
            "\n",
            "Epoch: 41\n",
            "---------\n",
            "Train loss: 0.00124\n",
            "Test loss: 0.00177\n",
            "\n",
            "Epoch: 42\n",
            "---------\n",
            "Train loss: 0.00120\n",
            "Test loss: 0.00171\n",
            "\n",
            "Epoch: 43\n",
            "---------\n",
            "Train loss: 0.00118\n",
            "Test loss: 0.00168\n",
            "\n",
            "Epoch: 44\n",
            "---------\n",
            "Train loss: 0.00114\n",
            "Test loss: 0.00166\n",
            "\n",
            "Epoch: 45\n",
            "---------\n",
            "Train loss: 0.00111\n",
            "Test loss: 0.00161\n",
            "\n",
            "Epoch: 46\n",
            "---------\n",
            "Train loss: 0.00108\n",
            "Test loss: 0.00159\n",
            "\n",
            "Epoch: 47\n",
            "---------\n",
            "Train loss: 0.00105\n",
            "Test loss: 0.00155\n",
            "\n",
            "Epoch: 48\n",
            "---------\n",
            "Train loss: 0.00102\n",
            "Test loss: 0.00153\n",
            "\n",
            "Epoch: 49\n",
            "---------\n",
            "Train loss: 0.00100\n",
            "Test loss: 0.00152\n",
            "\n",
            "Epoch: 50\n",
            "---------\n",
            "Train loss: 0.00097\n",
            "Test loss: 0.00148\n",
            "\n",
            "Epoch: 51\n",
            "---------\n",
            "Train loss: 0.00095\n",
            "Test loss: 0.00145\n",
            "\n",
            "Epoch: 52\n",
            "---------\n",
            "Train loss: 0.00093\n",
            "Test loss: 0.00142\n",
            "\n",
            "Epoch: 53\n",
            "---------\n",
            "Train loss: 0.00091\n",
            "Test loss: 0.00142\n",
            "\n",
            "Epoch: 54\n",
            "---------\n",
            "Train loss: 0.00089\n",
            "Test loss: 0.00138\n",
            "\n",
            "Epoch: 55\n",
            "---------\n",
            "Train loss: 0.00087\n",
            "Test loss: 0.00137\n",
            "\n",
            "Epoch: 56\n",
            "---------\n",
            "Train loss: 0.00086\n",
            "Test loss: 0.00136\n",
            "\n",
            "Epoch: 57\n",
            "---------\n",
            "Train loss: 0.00084\n",
            "Test loss: 0.00134\n",
            "\n",
            "Epoch: 58\n",
            "---------\n",
            "Train loss: 0.00082\n",
            "Test loss: 0.00131\n",
            "\n",
            "Epoch: 59\n",
            "---------\n",
            "Train loss: 0.00081\n",
            "Test loss: 0.00129\n",
            "\n",
            "Epoch: 60\n",
            "---------\n",
            "Train loss: 0.00079\n",
            "Test loss: 0.00127\n",
            "\n",
            "Epoch: 61\n",
            "---------\n",
            "Train loss: 0.00078\n",
            "Test loss: 0.00127\n",
            "\n",
            "Epoch: 62\n",
            "---------\n",
            "Train loss: 0.00077\n",
            "Test loss: 0.00124\n",
            "\n",
            "Epoch: 63\n",
            "---------\n",
            "Train loss: 0.00075\n",
            "Test loss: 0.00125\n",
            "\n",
            "Epoch: 64\n",
            "---------\n",
            "Train loss: 0.00074\n",
            "Test loss: 0.00122\n",
            "\n",
            "Epoch: 65\n",
            "---------\n",
            "Train loss: 0.00073\n",
            "Test loss: 0.00121\n",
            "\n",
            "Epoch: 66\n",
            "---------\n",
            "Train loss: 0.00071\n",
            "Test loss: 0.00119\n",
            "\n",
            "Epoch: 67\n",
            "---------\n",
            "Train loss: 0.00070\n",
            "Test loss: 0.00118\n",
            "\n",
            "Epoch: 68\n",
            "---------\n",
            "Train loss: 0.00069\n",
            "Test loss: 0.00116\n",
            "\n",
            "Epoch: 69\n",
            "---------\n",
            "Train loss: 0.00068\n",
            "Test loss: 0.00115\n",
            "\n",
            "Epoch: 70\n",
            "---------\n",
            "Train loss: 0.00067\n",
            "Test loss: 0.00115\n",
            "\n",
            "Epoch: 71\n",
            "---------\n",
            "Train loss: 0.00066\n",
            "Test loss: 0.00113\n",
            "\n",
            "Epoch: 72\n",
            "---------\n",
            "Train loss: 0.00065\n",
            "Test loss: 0.00112\n",
            "\n",
            "Epoch: 73\n",
            "---------\n",
            "Train loss: 0.00064\n",
            "Test loss: 0.00111\n",
            "\n",
            "Epoch: 74\n",
            "---------\n",
            "Train loss: 0.00063\n",
            "Test loss: 0.00110\n",
            "\n",
            "Epoch: 75\n",
            "---------\n",
            "Train loss: 0.00062\n",
            "Test loss: 0.00109\n",
            "\n",
            "Epoch: 76\n",
            "---------\n",
            "Train loss: 0.00061\n",
            "Test loss: 0.00107\n",
            "\n",
            "Epoch: 77\n",
            "---------\n",
            "Train loss: 0.00060\n",
            "Test loss: 0.00107\n",
            "\n",
            "Epoch: 78\n",
            "---------\n",
            "Train loss: 0.00060\n",
            "Test loss: 0.00106\n",
            "\n",
            "Epoch: 79\n",
            "---------\n",
            "Train loss: 0.00059\n",
            "Test loss: 0.00104\n",
            "\n",
            "Epoch: 80\n",
            "---------\n",
            "Train loss: 0.00058\n",
            "Test loss: 0.00104\n",
            "\n",
            "Epoch: 81\n",
            "---------\n",
            "Train loss: 0.00057\n",
            "Test loss: 0.00104\n",
            "\n",
            "Epoch: 82\n",
            "---------\n",
            "Train loss: 0.00057\n",
            "Test loss: 0.00102\n",
            "\n",
            "Epoch: 83\n",
            "---------\n",
            "Train loss: 0.00056\n",
            "Test loss: 0.00102\n",
            "\n",
            "Epoch: 84\n",
            "---------\n",
            "Train loss: 0.00055\n",
            "Test loss: 0.00102\n",
            "\n",
            "Epoch: 85\n",
            "---------\n",
            "Train loss: 0.00055\n",
            "Test loss: 0.00101\n",
            "\n",
            "Epoch: 86\n",
            "---------\n",
            "Train loss: 0.00054\n",
            "Test loss: 0.00099\n",
            "\n",
            "Epoch: 87\n",
            "---------\n",
            "Train loss: 0.00053\n",
            "Test loss: 0.00099\n",
            "\n",
            "Epoch: 88\n",
            "---------\n",
            "Train loss: 0.00053\n",
            "Test loss: 0.00098\n",
            "\n",
            "Epoch: 89\n",
            "---------\n",
            "Train loss: 0.00052\n",
            "Test loss: 0.00098\n",
            "\n",
            "Epoch: 90\n",
            "---------\n",
            "Train loss: 0.00051\n",
            "Test loss: 0.00096\n",
            "\n",
            "Epoch: 91\n",
            "---------\n",
            "Train loss: 0.00051\n",
            "Test loss: 0.00096\n",
            "\n",
            "Epoch: 92\n",
            "---------\n",
            "Train loss: 0.00050\n",
            "Test loss: 0.00095\n",
            "\n",
            "Epoch: 93\n",
            "---------\n",
            "Train loss: 0.00050\n",
            "Test loss: 0.00094\n",
            "\n",
            "Epoch: 94\n",
            "---------\n",
            "Train loss: 0.00049\n",
            "Test loss: 0.00094\n",
            "\n",
            "Epoch: 95\n",
            "---------\n",
            "Train loss: 0.00049\n",
            "Test loss: 0.00093\n",
            "\n",
            "Epoch: 96\n",
            "---------\n",
            "Train loss: 0.00048\n",
            "Test loss: 0.00092\n",
            "\n",
            "Epoch: 97\n",
            "---------\n",
            "Train loss: 0.00047\n",
            "Test loss: 0.00093\n",
            "\n",
            "Epoch: 98\n",
            "---------\n",
            "Train loss: 0.00047\n",
            "Test loss: 0.00092\n",
            "\n",
            "Epoch: 99\n",
            "---------\n",
            "Train loss: 0.00047\n",
            "Test loss: 0.00091\n",
            "\n",
            "Epoch: 100\n",
            "---------\n",
            "Train loss: 0.00046\n",
            "Test loss: 0.00090\n",
            "\n",
            "Epoch: 101\n",
            "---------\n",
            "Train loss: 0.00046\n",
            "Test loss: 0.00090\n",
            "\n",
            "Epoch: 102\n",
            "---------\n",
            "Train loss: 0.00045\n",
            "Test loss: 0.00090\n",
            "\n",
            "Epoch: 103\n",
            "---------\n",
            "Train loss: 0.00045\n",
            "Test loss: 0.00088\n",
            "\n",
            "Epoch: 104\n",
            "---------\n",
            "Train loss: 0.00044\n",
            "Test loss: 0.00088\n",
            "\n",
            "Epoch: 105\n",
            "---------\n",
            "Train loss: 0.00044\n",
            "Test loss: 0.00088\n",
            "\n",
            "Epoch: 106\n",
            "---------\n",
            "Train loss: 0.00043\n",
            "Test loss: 0.00088\n",
            "\n",
            "Epoch: 107\n",
            "---------\n",
            "Train loss: 0.00043\n",
            "Test loss: 0.00086\n",
            "\n",
            "Epoch: 108\n",
            "---------\n",
            "Train loss: 0.00043\n",
            "Test loss: 0.00087\n",
            "\n",
            "Epoch: 109\n",
            "---------\n",
            "Train loss: 0.00042\n",
            "Test loss: 0.00086\n",
            "\n",
            "Epoch: 110\n",
            "---------\n",
            "Train loss: 0.00042\n",
            "Test loss: 0.00085\n",
            "\n",
            "Epoch: 111\n",
            "---------\n",
            "Train loss: 0.00041\n",
            "Test loss: 0.00084\n",
            "\n",
            "Epoch: 112\n",
            "---------\n",
            "Train loss: 0.00041\n",
            "Test loss: 0.00084\n",
            "\n",
            "Epoch: 113\n",
            "---------\n",
            "Train loss: 0.00040\n",
            "Test loss: 0.00084\n",
            "\n",
            "Epoch: 114\n",
            "---------\n",
            "Train loss: 0.00040\n",
            "Test loss: 0.00084\n",
            "\n",
            "Epoch: 115\n",
            "---------\n",
            "Train loss: 0.00040\n",
            "Test loss: 0.00083\n",
            "\n",
            "Epoch: 116\n",
            "---------\n",
            "Train loss: 0.00039\n",
            "Test loss: 0.00083\n",
            "\n",
            "Epoch: 117\n",
            "---------\n",
            "Train loss: 0.00039\n",
            "Test loss: 0.00082\n",
            "\n",
            "Epoch: 118\n",
            "---------\n",
            "Train loss: 0.00039\n",
            "Test loss: 0.00081\n",
            "\n",
            "Epoch: 119\n",
            "---------\n",
            "Train loss: 0.00038\n",
            "Test loss: 0.00082\n",
            "\n",
            "Epoch: 120\n",
            "---------\n",
            "Train loss: 0.00038\n",
            "Test loss: 0.00081\n",
            "\n",
            "Epoch: 121\n",
            "---------\n",
            "Train loss: 0.00038\n",
            "Test loss: 0.00081\n",
            "\n",
            "Epoch: 122\n",
            "---------\n",
            "Train loss: 0.00037\n",
            "Test loss: 0.00081\n",
            "\n",
            "Epoch: 123\n",
            "---------\n",
            "Train loss: 0.00037\n",
            "Test loss: 0.00080\n",
            "\n",
            "Epoch: 124\n",
            "---------\n",
            "Train loss: 0.00037\n",
            "Test loss: 0.00080\n",
            "\n",
            "Epoch: 125\n",
            "---------\n",
            "Train loss: 0.00036\n",
            "Test loss: 0.00080\n",
            "\n",
            "Epoch: 126\n",
            "---------\n",
            "Train loss: 0.00036\n",
            "Test loss: 0.00079\n",
            "\n",
            "Epoch: 127\n",
            "---------\n",
            "Train loss: 0.00036\n",
            "Test loss: 0.00079\n",
            "\n",
            "Epoch: 128\n",
            "---------\n",
            "Train loss: 0.00035\n",
            "Test loss: 0.00078\n",
            "\n",
            "Epoch: 129\n",
            "---------\n",
            "Train loss: 0.00035\n",
            "Test loss: 0.00079\n",
            "\n",
            "Train time on cuda:0: 76.656 seconds\n"
          ]
        }
      ]
    },
    {
      "cell_type": "code",
      "source": [
        "def plot_loss_curves(results: dict[str, list[float]]):\n",
        "  # Get the loss values of the results dictionary (training and test)\n",
        "  loss = results['train_loss']\n",
        "  print(results['train_loss'])\n",
        "  test_loss = results['test_loss']\n",
        "\n",
        "  # Figure out how many epochs there were\n",
        "  epochs = range(len(results['train_loss']))\n",
        "\n",
        "  # Setup a plot\n",
        "  plt.figure(figsize=(15, 7))\n",
        "\n",
        "  # Plot the loss\n",
        "  plt.plot(epochs, loss, label='train_loss')\n",
        "  plt.plot(epochs, test_loss, label='test_loss')\n",
        "  plt.title('Loss')\n",
        "  plt.xlabel('Epochs')\n",
        "  plt.legend()"
      ],
      "metadata": {
        "id": "3iwqj3Gi4nyY"
      },
      "execution_count": 26,
      "outputs": []
    },
    {
      "cell_type": "code",
      "source": [
        "plot_loss_curves(results)"
      ],
      "metadata": {
        "id": "WxAD1ZSajRzM",
        "colab": {
          "base_uri": "https://localhost:8080/",
          "height": 678
        },
        "outputId": "3c841ff1-e495-4009-b775-ebe88ca6e8a4"
      },
      "execution_count": 27,
      "outputs": [
        {
          "output_type": "stream",
          "name": "stdout",
          "text": [
            "[0.05930931866168976, 0.05351300165057182, 0.051162682473659515, 0.0448700375854969, 0.03275350481271744, 0.023069923743605614, 0.018373066559433937, 0.015499508939683437, 0.013434592634439468, 0.011799744330346584, 0.010393991135060787, 0.009277626872062683, 0.00831453874707222, 0.007464553229510784, 0.006669811438769102, 0.005964398384094238, 0.005342335905879736, 0.004790010396391153, 0.004288975149393082, 0.0038842963986098766, 0.0035393524449318647, 0.0032495532650500536, 0.0030150054953992367, 0.0027977260760962963, 0.002619875827804208, 0.0024607006926089525, 0.002317763864994049, 0.0021993457339704037, 0.002070865361019969, 0.00197030627168715, 0.0018883888842538, 0.0017991716740652919, 0.001727200928144157, 0.0016470379196107388, 0.0015821980778127909, 0.0015222192741930485, 0.0014674515696242452, 0.0014118917752057314, 0.001368968398310244, 0.0013326308690011501, 0.0012812070781365037, 0.0012408432085067034, 0.0012041795998811722, 0.0011777003528550267, 0.0011429545702412724, 0.0011081271804869175, 0.0010776029666885734, 0.001050803461112082, 0.0010239719413220882, 0.0010009523248299956, 0.0009740538080222905, 0.0009542074403725564, 0.0009323173435404897, 0.0009115198045037687, 0.000894141208846122, 0.0008716096635907888, 0.0008583269664086401, 0.0008410141454078257, 0.000820336164906621, 0.0008147952030412853, 0.0007923479424789548, 0.000778365705627948, 0.0007653890061192214, 0.0007507639238610864, 0.0007405722280964255, 0.0007278020493686199, 0.000713234709110111, 0.000700881180819124, 0.0006898608990013599, 0.0006798335816711187, 0.0006682571838609874, 0.0006600513006560504, 0.0006499633891507983, 0.0006399506237357855, 0.0006306590512394905, 0.0006226137629710138, 0.0006140432087704539, 0.0006046245107427239, 0.0005968587938696146, 0.0005890068132430315, 0.0005807725246995687, 0.0005742986686527729, 0.0005655042477883399, 0.0005578114651143551, 0.0005508288159035146, 0.000545849499758333, 0.0005398833309300244, 0.0005335481837391853, 0.0005260097095742822, 0.0005217514699324965, 0.000514080049470067, 0.000507571327034384, 0.0005014658672735095, 0.0004969552392140031, 0.0004927556728944182, 0.0004873504803981632, 0.00048047874588519335, 0.00047448551049456, 0.00047129549784585834, 0.0004666672903113067, 0.0004600465763360262, 0.00045780636719428003, 0.00045140052679926157, 0.0004458787152543664, 0.000441218406194821, 0.0004373547271825373, 0.0004337127320468426, 0.00042865704745054245, 0.00042500271229073405, 0.0004220037953928113, 0.00041609079926274717, 0.0004127161228097975, 0.0004086239787284285, 0.0004044855013489723, 0.00040169022395275533, 0.0003974925202783197, 0.00039352657040581107, 0.00038977828808128834, 0.00038703755126334727, 0.00038430781569331884, 0.0003796542005147785, 0.00037641660310328007, 0.0003733894263859838, 0.0003701363457366824, 0.0003670878941193223, 0.00036375009221956134, 0.0003613407607190311, 0.0003584396908991039, 0.00035497068893164396, 0.00035260620643384755]\n"
          ]
        },
        {
          "output_type": "display_data",
          "data": {
            "text/plain": [
              "<Figure size 1500x700 with 1 Axes>"
            ],
            "image/png": "[encoded data removed]"
          },
          "metadata": {}
        }
      ]
    },
    {
      "cell_type": "markdown",
      "source": [
        "### Let's detect and visualize the coordinates with the help of the model"
      ],
      "metadata": {
        "id": "WrGJoS5DVZT9"
      }
    },
    {
      "cell_type": "code",
      "source": [
        "plt_size = 3\n",
        "fig = plt.figure(figsize=(8, 8))\n",
        "plt.subplots_adjust(top = 1.2, bottom=0.01, hspace=0.4, wspace=0.3)\n",
        "\n",
        "# Choosing random images from test_dataset\n",
        "idx = np.random.randint(0, len(test_dataset)-1, size = plt_size)\n",
        "with torch.inference_mode():\n",
        "\n",
        "  for pl, id in enumerate(idx):\n",
        "    # plot 1 image per each row\n",
        "    plt.subplot(3, 1, pl+1)\n",
        "    plt.imshow(test_dataset.images[id].permute(1,2,0), cmap='gray')\n",
        "    true_coordinates = (test_dataset.coordinates[id] * 63).tolist()\n",
        "    true_coordinates = [int(x) for x in true_coordinates]\n",
        "\n",
        "    model.eval()\n",
        "    detected_coordinates = model(test_dataset.images[id].unsqueeze(dim=0).to(device)).squeeze()\n",
        "    detected_coordinates *= 63\n",
        "    detected_coordinates = [int(x) for x in detected_coordinates]\n",
        "\n",
        "    plt.title(f'True coordinates      : {true_coordinates}\\n Detected coordinates: {detected_coordinates}')\n",
        "    # Plotting detected line coordinates by the NN algorithm\n",
        "    plt.plot(detected_coordinates[0], detected_coordinates[1], 'ro')\n",
        "    plt.plot(detected_coordinates[2], detected_coordinates[3], 'ro')"
      ],
      "metadata": {
        "colab": {
          "base_uri": "https://localhost:8080/",
          "height": 1000
        },
        "id": "itEuuYBVW3WQ",
        "outputId": "8a2e56d2-a5e9-4629-a248-35fe65e10efb"
      },
      "execution_count": 31,
      "outputs": [
        {
          "output_type": "display_data",
          "data": {
            "text/plain": [
              "<Figure size 800x800 with 3 Axes>"
            ],
            "image/png": "[encoded data removed]"
          },
          "metadata": {}
        }
      ]
    },
    {
      "cell_type": "markdown",
      "source": [
        "Thank you!\n"
      ],
      "metadata": {
        "id": "26C4T-Kt4ehm"
      }
    }
  ]
}